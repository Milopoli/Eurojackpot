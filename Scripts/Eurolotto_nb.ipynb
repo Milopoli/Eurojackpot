{
 "cells": [
  {
   "cell_type": "markdown",
   "source": [
    "# Eurojackpot calculations"
   ],
   "metadata": {}
  },
  {
   "cell_type": "code",
   "execution_count": 2,
   "source": [
    "#library imports\r\n",
    "import numpy as np\r\n",
    "import pandas as pd\r\n",
    "import matplotlib.pyplot as plt\r\n",
    "import seaborn as sns\r\n",
    "from bs4 import BeautifulSoup\r\n",
    "import requests "
   ],
   "outputs": [],
   "metadata": {}
  },
  {
   "cell_type": "markdown",
   "source": [
    "## Odd/even, low/high\r\n",
    "\r\n",
    "Grouping odd and even numbers, as well as low and high numbers seperately to create 4 batches of numbers.\r\n",
    "Low numbers are all numbers from 1-25, high numbers are all numbers from 26-50.\r\n",
    "\r\n",
    "Seperating normal numbers from Tähtinumerot, since they are only available from 1-10. More beneficial to analyze the sequence of the first 5 regular numbers."
   ],
   "metadata": {}
  },
  {
   "cell_type": "code",
   "execution_count": 3,
   "source": [
    "#defining odd/even/low/high numbers in case needed\r\n",
    "odd_numbers = [1,3,5,7,9,11,13,15,17,19,21,23,25,27,29,31,33,35,37,39,41,43,45,47,49]\r\n",
    "even_numbers = [2,4,6,8,10,12,14,16,18,20,22,24,26,28,30,32,34,36,38,40,42,44,46,48,50]\r\n",
    "\r\n",
    "low_numbers = [1,2,3,4,5,6,7,8,9,10,11,12,13,14,15,16,17,18,19,20,21,22,23,24,25]\r\n",
    "high_numbers = [26,27,28,29,30,31,32,33,34,35,36,37,38,39,40,41,42,43,44,45,46,47,48,49,50]\r\n",
    "\r\n",
    "low_odd_numbers = [1,3,5,7,9,11,13,15,17,19,21,23,25]\r\n",
    "low_even_numbers = [2,4,6,8,10,12,14,16,18,20,22,24]\r\n",
    "\r\n",
    "high_odd_numbers = [27,29,31,33,35,37,39,41,43,45,47,49]\r\n",
    "high_even_numbers = [26,28,30,32,34,36,38,40,42,44,46,48,50]"
   ],
   "outputs": [],
   "metadata": {}
  },
  {
   "cell_type": "markdown",
   "source": [
    "## Simulating distribution of even/odd and low/high numbers"
   ],
   "metadata": {}
  },
  {
   "cell_type": "code",
   "execution_count": 4,
   "source": [
    "#function for drawing 5 random numbers between 1-50\r\n",
    "def draw_numbers():\r\n",
    "    numbers = []\r\n",
    "    while len(numbers) < 5:\r\n",
    "        temp_n = (np.random.randint(50) + 1)\r\n",
    "        if temp_n not in numbers:\r\n",
    "            numbers.append(temp_n)\r\n",
    "    return numbers"
   ],
   "outputs": [],
   "metadata": {}
  },
  {
   "cell_type": "code",
   "execution_count": 5,
   "source": [
    "#simulating the amount of odd numbers compared to even in a random draw\r\n",
    "def evenodd_simulation(epochs):\r\n",
    "\r\n",
    "    outcomes, total_results = ([] for i in range(2))\r\n",
    "\r\n",
    "    for i in range(epochs):\r\n",
    "        odd_count = 0\r\n",
    "        number_set = draw_numbers()\r\n",
    "        for j in number_set:\r\n",
    "            if j in odd_numbers:\r\n",
    "                odd_count += 1\r\n",
    "        outcomes.append(odd_count)\r\n",
    "    \r\n",
    "    total_results.extend((outcomes.count(0), outcomes.count(1), outcomes.count(2), outcomes.count(3), outcomes.count(4), outcomes.count(5)))\r\n",
    "    \r\n",
    "    return total_results"
   ],
   "outputs": [],
   "metadata": {}
  },
  {
   "cell_type": "code",
   "execution_count": 6,
   "source": [
    "#simulating the number of low numbers compared to high in a random draw\r\n",
    "def highlow_simulation(epochs):\r\n",
    "\r\n",
    "    outcomes, total_results = ([] for i in range(2))\r\n",
    "\r\n",
    "    for i in range(epochs):\r\n",
    "        low_count = 0\r\n",
    "        number_set = draw_numbers()\r\n",
    "        for j in number_set:\r\n",
    "            if j in low_numbers:\r\n",
    "                low_count += 1\r\n",
    "        outcomes.append(low_count)\r\n",
    "    \r\n",
    "    total_results.extend((outcomes.count(0), outcomes.count(1), outcomes.count(2), outcomes.count(3), outcomes.count(4), outcomes.count(5)))\r\n",
    "    \r\n",
    "    return total_results"
   ],
   "outputs": [],
   "metadata": {}
  },
  {
   "cell_type": "markdown",
   "source": [
    "## Plotting the distribution of the randomly drawn numbers, both as even/odd numbers and high/low"
   ],
   "metadata": {}
  },
  {
   "cell_type": "code",
   "execution_count": 7,
   "source": [
    "#distribution of lows/high, even/odd after 1000 simulations\r\n",
    "\r\n",
    "data = evenodd_simulation(1000)\r\n",
    "data1 = highlow_simulation(1000)\r\n",
    "\r\n",
    "#plotting the results\r\n",
    "\r\n",
    "labels = ['0 Odd/low, 5 Even/High', '1 Odd/low, 4 Even/High', '2 Odd/low, 3 Even/High', '3 Odd/low, 2 Even/High', '4 Odd/low, 1 Even/High', '5 Odd/low, 0 Even/High']\r\n",
    "\r\n",
    "x = np.arange(len(labels))\r\n",
    "width = 0.35\r\n",
    "\r\n",
    "fig, ax = plt.subplots(figsize=(18,8))\r\n",
    "bar_plot = ax.bar(x - width/2, data, width, label='Odd')\r\n",
    "bar_plot = ax.bar(x + width/2, data1, width, label='Low')\r\n",
    "\r\n",
    "ax.set_ylabel('Amount')\r\n",
    "ax.set_title('Number of Odd or Low numbers per draw')\r\n",
    "ax.set_xticks(x)\r\n",
    "ax.set_xticklabels(labels)\r\n",
    "ax.legend(prop={'size': 20})\r\n",
    "\r\n",
    "\r\n",
    "fig=plt.figure(figsize=(12,8), dpi= 100, facecolor='w', edgecolor='k')\r\n",
    "fig.tight_layout()\r\n",
    "plt.show()\r\n"
   ],
   "outputs": [
    {
     "output_type": "display_data",
     "data": {
      "text/plain": [
       "<Figure size 1296x576 with 1 Axes>"
      ],
      "image/png": "[encoded data removed]"
     },
     "metadata": {
      "needs_background": "light"
     }
    },
    {
     "output_type": "display_data",
     "data": {
      "text/plain": [
       "<Figure size 1200x800 with 0 Axes>"
      ]
     },
     "metadata": {}
    }
   ],
   "metadata": {}
  },
  {
   "cell_type": "markdown",
   "source": [
    "The combination of 2 odd and 3 even or vice versa, as well as 2 low and 3 high or vice versa clearly more common than any other, which is to be expected since there are more combinations available. "
   ],
   "metadata": {}
  },
  {
   "cell_type": "markdown",
   "source": [
    "Webscraping for data of all previous winning rows since 2013. The Tähtinumerot has changed over time from 1-8 to 1-10, but they will not have an effect since we are focusing on first sequence of numbers."
   ],
   "metadata": {}
  },
  {
   "cell_type": "code",
   "execution_count": 8,
   "source": [
    "#checking for previous winning numbers\r\n",
    "\r\n",
    "#webscraping every winning combination to date\r\n",
    "number_data = pd.DataFrame()\r\n",
    "\r\n",
    "column_names = ['Numero 1', 'Numero 2','Numero 3','Numero 4','Numero 5', 'Tähtinumero 1', 'Tähtinumero 2']\r\n",
    "\r\n",
    "year = 2021\r\n",
    "while year >= 2012:\r\n",
    "    url = f'https://www.euro-jackpot.net/en/results-archive-{year}'\r\n",
    "    wurl = requests.get(url)\r\n",
    "    soup = BeautifulSoup(wurl.content, 'html.parser')\r\n",
    "    table = soup.find('tbody').find_all('ul')\r\n",
    "    table_contents = [[cell.get_text(strip=True) for cell in row.find_all('span')[0:7]]\r\n",
    "        for row in table]\r\n",
    "    number_data = number_data.append(table_contents, ignore_index=True)\r\n",
    "    year = year - 1\r\n",
    "\r\n",
    "number_data.columns = column_names\r\n",
    "number_data.rename(index=lambda s: 'Rivi ' + str(s +1), inplace=True)"
   ],
   "outputs": [],
   "metadata": {}
  },
  {
   "cell_type": "code",
   "execution_count": 9,
   "source": [
    "#Checking first five numbers\r\n",
    "number_data.head()"
   ],
   "outputs": [
    {
     "output_type": "execute_result",
     "data": {
      "text/plain": [
       "       Numero 1 Numero 2 Numero 3 Numero 4 Numero 5 Tähtinumero 1  \\\n",
       "Rivi 1       16       19       21       29       36             1   \n",
       "Rivi 2        5       14       39       43       44             1   \n",
       "Rivi 3       13       33       42       48       50             3   \n",
       "Rivi 4        9       14       24       37       39             4   \n",
       "Rivi 5        8       14       15       20       31             8   \n",
       "\n",
       "       Tähtinumero 2  \n",
       "Rivi 1             7  \n",
       "Rivi 2             6  \n",
       "Rivi 3             9  \n",
       "Rivi 4             9  \n",
       "Rivi 5             9  "
      ],
      "text/html": [
       "<div>\n",
       "<style scoped>\n",
       "    .dataframe tbody tr th:only-of-type {\n",
       "        vertical-align: middle;\n",
       "    }\n",
       "\n",
       "    .dataframe tbody tr th {\n",
       "        vertical-align: top;\n",
       "    }\n",
       "\n",
       "    .dataframe thead th {\n",
       "        text-align: right;\n",
       "    }\n",
       "</style>\n",
       "<table border=\"1\" class=\"dataframe\">\n",
       "  <thead>\n",
       "    <tr style=\"text-align: right;\">\n",
       "      <th></th>\n",
       "      <th>Numero 1</th>\n",
       "      <th>Numero 2</th>\n",
       "      <th>Numero 3</th>\n",
       "      <th>Numero 4</th>\n",
       "      <th>Numero 5</th>\n",
       "      <th>Tähtinumero 1</th>\n",
       "      <th>Tähtinumero 2</th>\n",
       "    </tr>\n",
       "  </thead>\n",
       "  <tbody>\n",
       "    <tr>\n",
       "      <th>Rivi 1</th>\n",
       "      <td>16</td>\n",
       "      <td>19</td>\n",
       "      <td>21</td>\n",
       "      <td>29</td>\n",
       "      <td>36</td>\n",
       "      <td>1</td>\n",
       "      <td>7</td>\n",
       "    </tr>\n",
       "    <tr>\n",
       "      <th>Rivi 2</th>\n",
       "      <td>5</td>\n",
       "      <td>14</td>\n",
       "      <td>39</td>\n",
       "      <td>43</td>\n",
       "      <td>44</td>\n",
       "      <td>1</td>\n",
       "      <td>6</td>\n",
       "    </tr>\n",
       "    <tr>\n",
       "      <th>Rivi 3</th>\n",
       "      <td>13</td>\n",
       "      <td>33</td>\n",
       "      <td>42</td>\n",
       "      <td>48</td>\n",
       "      <td>50</td>\n",
       "      <td>3</td>\n",
       "      <td>9</td>\n",
       "    </tr>\n",
       "    <tr>\n",
       "      <th>Rivi 4</th>\n",
       "      <td>9</td>\n",
       "      <td>14</td>\n",
       "      <td>24</td>\n",
       "      <td>37</td>\n",
       "      <td>39</td>\n",
       "      <td>4</td>\n",
       "      <td>9</td>\n",
       "    </tr>\n",
       "    <tr>\n",
       "      <th>Rivi 5</th>\n",
       "      <td>8</td>\n",
       "      <td>14</td>\n",
       "      <td>15</td>\n",
       "      <td>20</td>\n",
       "      <td>31</td>\n",
       "      <td>8</td>\n",
       "      <td>9</td>\n",
       "    </tr>\n",
       "  </tbody>\n",
       "</table>\n",
       "</div>"
      ]
     },
     "metadata": {},
     "execution_count": 9
    }
   ],
   "metadata": {}
  },
  {
   "cell_type": "code",
   "execution_count": 10,
   "source": [
    "#Checking shape\r\n",
    "number_data.shape"
   ],
   "outputs": [
    {
     "output_type": "execute_result",
     "data": {
      "text/plain": [
       "(490, 7)"
      ]
     },
     "metadata": {},
     "execution_count": 10
    }
   ],
   "metadata": {}
  },
  {
   "cell_type": "code",
   "execution_count": 11,
   "source": [
    "#converting data to int64\r\n",
    "number_data = number_data[0:].astype(str).astype(np.int64)\r\n",
    "number_data.dtypes"
   ],
   "outputs": [
    {
     "output_type": "execute_result",
     "data": {
      "text/plain": [
       "Numero 1         int64\n",
       "Numero 2         int64\n",
       "Numero 3         int64\n",
       "Numero 4         int64\n",
       "Numero 5         int64\n",
       "Tähtinumero 1    int64\n",
       "Tähtinumero 2    int64\n",
       "dtype: object"
      ]
     },
     "metadata": {},
     "execution_count": 11
    }
   ],
   "metadata": {}
  },
  {
   "cell_type": "code",
   "execution_count": 12,
   "source": [
    "#Chech for null \r\n",
    "number_data.isnull().values.any()"
   ],
   "outputs": [
    {
     "output_type": "execute_result",
     "data": {
      "text/plain": [
       "False"
      ]
     },
     "metadata": {},
     "execution_count": 12
    }
   ],
   "metadata": {}
  },
  {
   "cell_type": "markdown",
   "source": [
    "## Extracting the even/odd and high/low distribution as with the randomly generated numbers."
   ],
   "metadata": {}
  },
  {
   "cell_type": "code",
   "execution_count": 13,
   "source": [
    "#converting df to numpy array for easier analysis\r\n",
    "number_numpy = pd.DataFrame(number_data).to_numpy()\r\n",
    "#Remove tähtinumerot\r\n",
    "number_numpy = np.delete(number_numpy,(-2,-1),1)\r\n",
    "\r\n",
    "#ignore this, not really needed, just for testing \r\n",
    "different_outcomes = [(0,0), (0,1), (0,2), (0,3), (0,4), (0,5), \r\n",
    "                      (1,0), (1,1), (1,2), (1,3), (1,4), (1,5),\r\n",
    "                      (2,0), (2,1), (2,2), (2,3), (2,4), (2,5),\r\n",
    "                      (3,0), (3,1), (3,2), (3,3), (3,4), (3,5),\r\n",
    "                      (4,0), (4,1), (4,2), (4,3), (4,4), (4,5),\r\n",
    "                      (5,0), (5,1), (5,2), (5,3), (5,4), (5,5)]\r\n",
    "\r\n",
    "#ignore this, not really needed, just for testing \r\n",
    "def check_full(array):\r\n",
    "    outcomes, total_results = ([] for i in range(2))\r\n",
    "    for i in array:\r\n",
    "        odd_count, low_count = 0,0\r\n",
    "        for num in i:\r\n",
    "            if num in odd_numbers:\r\n",
    "                odd_count += 1\r\n",
    "            if num in low_numbers:\r\n",
    "                low_count += 1\r\n",
    "        outcomes.append((odd_count, low_count))\r\n",
    "    for outc in range(len(different_outcomes)):\r\n",
    "        total_results.append(outcomes.count(different_outcomes[outc]))\r\n",
    "    return(total_results)   \r\n",
    "\r\n",
    "\r\n",
    "#calculates odd and low amount based on previous draws\r\n",
    "def check_array(array):\r\n",
    "    outcomes, outcomes2, total_results, total_results2 = ([] for i in range(4))\r\n",
    "    for i in array:\r\n",
    "        odd_count, low_count = 0,0\r\n",
    "        for num in i:\r\n",
    "            if num in odd_numbers:\r\n",
    "                odd_count += 1\r\n",
    "            if num in low_numbers:\r\n",
    "                low_count += 1\r\n",
    "        outcomes.append(odd_count)\r\n",
    "        outcomes2.append(low_count)\r\n",
    "\r\n",
    "    total_results.extend((outcomes.count(0), outcomes.count(1), outcomes.count(2), outcomes.count(3), outcomes.count(4), outcomes.count(5)))\r\n",
    "    total_results2.extend((outcomes2.count(0), outcomes2.count(1), outcomes2.count(2), outcomes2.count(3), outcomes2.count(4), outcomes2.count(5)))\r\n",
    "    \r\n",
    "    return(total_results, total_results2)   \r\n",
    "\r\n",
    "    "
   ],
   "outputs": [],
   "metadata": {}
  },
  {
   "cell_type": "markdown",
   "source": [
    "## Plotting distribution"
   ],
   "metadata": {}
  },
  {
   "cell_type": "code",
   "execution_count": 14,
   "source": [
    "#extracting odds and lows of winning rows from data\r\n",
    "odd_data1, low_data1 = check_array(number_numpy)\r\n",
    "\r\n",
    "#plotting previous winning rows\r\n",
    "labels = ['0 Odd/low, 5 Even/High', '1 Odd/low, 4 Even/High', '2 Odd/low, 3 Even/High', '3 Odd/low, 2 Even/High', '4 Odd/low, 1 Even/High', '5 Odd/low, 0 Even/High']\r\n",
    "\r\n",
    "x = np.arange(len(odd_data1))\r\n",
    "width = 0.35\r\n",
    "\r\n",
    "fig, ax = plt.subplots(figsize=(18,8))\r\n",
    "bar_plot = ax.bar(x - width/2, odd_data1, width, label='Odd')\r\n",
    "bar_plot = ax.bar(x + width/2, low_data1, width, label='Low')\r\n",
    "\r\n",
    "ax.set_ylabel('Amount')\r\n",
    "ax.set_title('Number of Odd or Low numbers per draw')\r\n",
    "ax.set_xticks(x)\r\n",
    "ax.set_xticklabels(labels)\r\n",
    "ax.legend(prop={'size': 20})\r\n",
    "\r\n",
    "\r\n",
    "fig=plt.figure(figsize=(12,8), dpi= 100, facecolor='w', edgecolor='k')\r\n",
    "fig.tight_layout()\r\n",
    "plt.show()"
   ],
   "outputs": [
    {
     "output_type": "display_data",
     "data": {
      "text/plain": [
       "<Figure size 1296x576 with 1 Axes>"
      ],
      "image/png": "[encoded data removed]"
     },
     "metadata": {
      "needs_background": "light"
     }
    },
    {
     "output_type": "display_data",
     "data": {
      "text/plain": [
       "<Figure size 1200x800 with 0 Axes>"
      ]
     },
     "metadata": {}
    }
   ],
   "metadata": {}
  },
  {
   "cell_type": "markdown",
   "source": [
    "## Actual winning rows showing similar distribution as the randomly drawn"
   ],
   "metadata": {}
  },
  {
   "cell_type": "markdown",
   "source": [
    "## Checking if there are more patterns when summing up each winning row"
   ],
   "metadata": {}
  },
  {
   "cell_type": "code",
   "execution_count": 15,
   "source": [
    "#function for checking the total sum of rows\r\n",
    "def sum_of_rows(df):\r\n",
    "    if df.shape[1] > 5:\r\n",
    "        df = df.drop(['Tähtinumero 1', 'Tähtinumero 2'], axis=1)\r\n",
    "    df['Sum'] = df.sum(axis =1)\r\n",
    "    return df\r\n"
   ],
   "outputs": [],
   "metadata": {}
  },
  {
   "cell_type": "code",
   "execution_count": 24,
   "source": [
    "#plotting sums\r\n",
    "sum_data = sum_of_rows(number_data)\r\n",
    "sns.distplot(sum_data['Sum'], hist=True, kde=False, bins=int(40), color = 'blue', hist_kws={'edgecolor':'black'})\r\n",
    "sns.set(rc={'figure.figsize':(18,6)})\r\n",
    "plt.title('Distribution of row sums from winning rows')\r\n",
    "plt.xlabel('Sum of rows')\r\n",
    "plt.ylabel('Frequency')\r\n",
    "plt.show()"
   ],
   "outputs": [
    {
     "output_type": "stream",
     "name": "stderr",
     "text": [
      "C:\\ProgramData\\Anaconda3\\lib\\site-packages\\seaborn\\distributions.py:2551: FutureWarning: `distplot` is a deprecated function and will be removed in a future version. Please adapt your code to use either `displot` (a figure-level function with similar flexibility) or `histplot` (an axes-level function for histograms).\n",
      "  warnings.warn(msg, FutureWarning)\n"
     ]
    },
    {
     "output_type": "display_data",
     "data": {
      "text/plain": [
       "<Figure size 1296x432 with 1 Axes>"
      ],
      "image/png": "[encoded data removed]"
     },
     "metadata": {}
    }
   ],
   "metadata": {}
  },
  {
   "cell_type": "markdown",
   "source": [
    "## Something close to a normal distribution, meaning there are more sums more common than others"
   ],
   "metadata": {}
  },
  {
   "cell_type": "markdown",
   "source": [
    "Also checking the standard deviation and mean"
   ],
   "metadata": {}
  },
  {
   "cell_type": "code",
   "execution_count": 17,
   "source": [
    "#Check standard deviation and mean\r\n",
    "prev_std = sum_data['Sum'].std()\r\n",
    "prev_mean = sum_data['Sum'].mean()\r\n",
    "print(prev_std,prev_mean)"
   ],
   "outputs": [
    {
     "output_type": "stream",
     "name": "stdout",
     "text": [
      "31.072727566105225 126.96938775510205\n"
     ]
    }
   ],
   "metadata": {}
  },
  {
   "cell_type": "markdown",
   "source": [
    "## Comparing results with 10000 randomly drawn numbers "
   ],
   "metadata": {}
  },
  {
   "cell_type": "code",
   "execution_count": 18,
   "source": [
    "#testing sum distribution with random rows\r\n",
    "#creating 10000 rows df\r\n",
    "empty_arr = []\r\n",
    "for i in range(10000):\r\n",
    "    tmp = draw_numbers()\r\n",
    "    empty_arr.append(tmp)\r\n",
    "new_df = pd.DataFrame(empty_arr)\r\n",
    "\r\n",
    "new_df.shape[1]\r\n",
    "sum_data_random = sum_of_rows(new_df)\r\n",
    "\r\n"
   ],
   "outputs": [],
   "metadata": {}
  },
  {
   "cell_type": "code",
   "execution_count": 19,
   "source": [
    "sns.distplot(sum_data_random['Sum'], hist=True, kde=False, bins=int(40), color = 'blue', hist_kws={'edgecolor':'black'})\r\n",
    "sns.set(rc={'figure.figsize':(18,6)})\r\n",
    "plt.title('Distribution of row sums from winning rows')\r\n",
    "plt.xlabel('Sum of rows')\r\n",
    "plt.ylabel('Frequency')\r\n",
    "plt.show()"
   ],
   "outputs": [
    {
     "output_type": "display_data",
     "data": {
      "text/plain": [
       "<Figure size 1296x432 with 1 Axes>"
      ],
      "image/png": "[encoded data removed]"
     },
     "metadata": {}
    }
   ],
   "metadata": {}
  },
  {
   "cell_type": "markdown",
   "source": [
    "## Similar results with a clearer normal distribution curve"
   ],
   "metadata": {}
  },
  {
   "cell_type": "code",
   "execution_count": 20,
   "source": [
    "#Check standard deviation and mean\r\n",
    "print(sum_data_random['Sum'].std(),sum_data_random['Sum'].mean())\r\n",
    "\r\n"
   ],
   "outputs": [
    {
     "output_type": "stream",
     "name": "stdout",
     "text": [
      "30.798822784458604 127.3072\n"
     ]
    }
   ],
   "metadata": {}
  },
  {
   "cell_type": "markdown",
   "source": [
    "Since the std and mean of previous winners are so close to the results from the simulation, the previous numbers can be used for further analysis to avoid making new predictions each time"
   ],
   "metadata": {}
  },
  {
   "cell_type": "markdown",
   "source": [
    "## Generating rows that both add up to values around 1 standard deviation from the mean as well as containing a 2/3 mix of odds/evens as well as high/low should be optimal"
   ],
   "metadata": {}
  },
  {
   "cell_type": "code",
   "execution_count": 21,
   "source": [
    "#create function for drawing 2/3 odd and 2/3 low every time\r\n",
    "def create_set():\r\n",
    "    switch_oe = np.random.randint(2,4)\r\n",
    "    switch_lh = np.random.randint(2,4)\r\n",
    "    numbers = []\r\n",
    "    while len(numbers) < 5:\r\n",
    "        if len(numbers) >= 3:\r\n",
    "            even_count, odd_count, low_count, high_count = 0, 0, 0, 0\r\n",
    "            for num in numbers:\r\n",
    "                if num % 2 == 0:\r\n",
    "                    even_count += 1\r\n",
    "                else:\r\n",
    "                    odd_count += 1\r\n",
    "                if num <=25:\r\n",
    "                    low_count +=1\r\n",
    "                else:\r\n",
    "                    high_count += 1\r\n",
    "            if odd_count < switch_oe and low_count < switch_lh:\r\n",
    "                temp_n = low_odd_numbers[(np.random.randint(len(low_odd_numbers)))]\r\n",
    "                if temp_n not in numbers:\r\n",
    "                    numbers.append(temp_n)\r\n",
    "            elif odd_count < switch_oe and low_count >= switch_lh:\r\n",
    "                temp_n = high_odd_numbers[(np.random.randint(len(high_odd_numbers)))]\r\n",
    "                if temp_n not in numbers:\r\n",
    "                    numbers.append(temp_n)\r\n",
    "            elif odd_count >= switch_oe and low_count < switch_lh:\r\n",
    "                temp_n = low_even_numbers[(np.random.randint(len(low_even_numbers)))]\r\n",
    "                if temp_n not in numbers:\r\n",
    "                    numbers.append(temp_n)\r\n",
    "            elif odd_count >= switch_oe and low_count >= switch_lh:\r\n",
    "                temp_n = high_even_numbers[(np.random.randint(len(high_even_numbers)))]\r\n",
    "                if temp_n not in numbers:\r\n",
    "                    numbers.append(temp_n)\r\n",
    "            else:\r\n",
    "                temp_n = (np.random.randint(50) + 1)\r\n",
    "                if temp_n not in numbers:\r\n",
    "                    numbers.append(temp_n)\r\n",
    "        else:\r\n",
    "            temp_n = (np.random.randint(50) + 1)\r\n",
    "            if temp_n not in numbers:\r\n",
    "                numbers.append(temp_n)\r\n",
    "\r\n",
    "    #tähtinumerot from 1 - 10, not drawn with specific rules other than that they may not be the same number\r\n",
    "    while len(numbers) < 7:\r\n",
    "        temp_n = (np.random.randint(10)) + 1\r\n",
    "        if temp_n != numbers[-1]:\r\n",
    "            numbers.append(temp_n)\r\n",
    "\r\n",
    "    return(numbers)"
   ],
   "outputs": [],
   "metadata": {}
  },
  {
   "cell_type": "markdown",
   "source": [
    "Since arithmetic sequence numbers and previous winners may be more likely to be picked by others, the payoff would be lower in case of a win, meaning it is better to not chose these numbers. Most arithmetic sequences except for ex. multiples of 7 or 9 are already excluded due to the high/low/even/odd condition. This is also the case for several other commonly picked sequences."
   ],
   "metadata": {}
  },
  {
   "cell_type": "code",
   "execution_count": 22,
   "source": [
    "#function for checking arithmetic sequence since those numbers are picked more often by others (mainly just for sequence of 7 or 9)\r\n",
    "def arithmetic_func(row_n):\r\n",
    "    row_new = row_n[:len(row_n)-2]\r\n",
    "    delta = row_new[1] - row_new[0]\r\n",
    "    for index in range(len(row_new) - 1):\r\n",
    "        if not (row_new[index + 1] - row_new[index] == delta):\r\n",
    "            return False\r\n",
    "    print('Arithmetic sequence detected, picking new numbers.')\r\n",
    "    return True\r\n",
    "\r\n",
    "#check if sum of row is within 1 st.d. from mean\r\n",
    "def standard_dev_check(row_n):\r\n",
    "    low_limit = prev_mean - prev_std\r\n",
    "    high_limit = prev_mean + prev_std\r\n",
    "    row_new = row_n[:len(row_n)-2]\r\n",
    "    if sum(row_new) > low_limit and sum(row_new) < high_limit:\r\n",
    "        return True\r\n",
    "    else:\r\n",
    "        return False\r\n",
    "\r\n",
    "#check if numbers in winning row df has been drawn before (extremely unlikely)\r\n",
    "def check_if_won(df):\r\n",
    "\r\n",
    "    #dropping tähtinumero rows from both df's, since we are only interested in the first 5 numbers matching\r\n",
    "    df_copy = df.copy()\r\n",
    "    number_copy = number_data.copy()\r\n",
    "    df_copy = df_copy.drop(['Tähtinumero 1', 'Tähtinumero 2'], axis=1)\r\n",
    "    number_copy = number_copy.drop(['Tähtinumero 1', 'Tähtinumero 2'], axis=1)\r\n",
    "\r\n",
    "    #inner join to see if there are any matches\r\n",
    "    comparison_df = df_copy.merge(number_copy,indicator=True,how='inner')\r\n",
    "    if comparison_df.empty:\r\n",
    "        return False\r\n",
    "    else:\r\n",
    "        print('One or more rows have already been picked, picking again.')\r\n",
    "        return True\r\n",
    "\r\n",
    "#creating rows with between 2-3 odd number as well as low numbers, including 2 tähtinumerot that are unique but random\r\n",
    "def get_winner(rows):\r\n",
    "    test_list = []\r\n",
    "    while len(test_list) < rows:\r\n",
    "        temp_list = create_set()\r\n",
    "        #check if within 1 std from mean\r\n",
    "        if standard_dev_check(temp_list):\r\n",
    "            #check that row not already drawn and not arithmetic\r\n",
    "            if temp_list not in test_list and arithmetic_func(temp_list) == False: \r\n",
    "                test_list.append(temp_list)\r\n",
    "                \r\n",
    "    winning_df = pd.DataFrame(test_list)\r\n",
    "    winning_df.columns = column_names\r\n",
    "    winning_df.rename(index=lambda s: 'Rivi ' + str(s + 1), inplace=True)\r\n",
    "\r\n",
    "    if check_if_won(winning_df):\r\n",
    "        get_winner(rows)\r\n",
    "        \r\n",
    "    return winning_df\r\n"
   ],
   "outputs": [],
   "metadata": {}
  },
  {
   "cell_type": "code",
   "execution_count": 23,
   "source": [
    "#drawing 20 unique, not arithmetic, non previously won rows, with 2-3 odds and 2-3 lows, within 1 std. from mean\r\n",
    "winning_df = get_winner(20)\r\n",
    "winning_df"
   ],
   "outputs": [
    {
     "output_type": "execute_result",
     "data": {
      "text/plain": [
       "         Numero 1  Numero 2  Numero 3  Numero 4  Numero 5  Tähtinumero 1  \\\n",
       "Rivi 1         32        36         5         1        25              3   \n",
       "Rivi 2         42        11        16        35        31              2   \n",
       "Rivi 3         41        26        43        13        24              9   \n",
       "Rivi 4         10         5        37        49        38              5   \n",
       "Rivi 5         11         1        25        40        30              9   \n",
       "Rivi 6         46        42        40         3         9              5   \n",
       "Rivi 7         25        31         7        26        46              6   \n",
       "Rivi 8         38        50        16         1        39             10   \n",
       "Rivi 9         20        25        21        33        40             10   \n",
       "Rivi 10        33        14        38        21        48              6   \n",
       "Rivi 11        41        17         9        26        40              6   \n",
       "Rivi 12        29         1        34        24        38              7   \n",
       "Rivi 13        30        18         1        37        47             10   \n",
       "Rivi 14        47        35         9        12        26             10   \n",
       "Rivi 15        43         5        23        22        48              8   \n",
       "Rivi 16        23        35        46        14        30              5   \n",
       "Rivi 17        35         2        30        15        18              7   \n",
       "Rivi 18        39        11        31        14        12              1   \n",
       "Rivi 19        36         9        23        40        46              1   \n",
       "Rivi 20        43        12        35        14         6              4   \n",
       "\n",
       "         Tähtinumero 2  \n",
       "Rivi 1               1  \n",
       "Rivi 2               6  \n",
       "Rivi 3               1  \n",
       "Rivi 4               3  \n",
       "Rivi 5               1  \n",
       "Rivi 6               8  \n",
       "Rivi 7               1  \n",
       "Rivi 8               1  \n",
       "Rivi 9               9  \n",
       "Rivi 10              3  \n",
       "Rivi 11              4  \n",
       "Rivi 12              1  \n",
       "Rivi 13              3  \n",
       "Rivi 14              8  \n",
       "Rivi 15              3  \n",
       "Rivi 16              2  \n",
       "Rivi 17              3  \n",
       "Rivi 18              4  \n",
       "Rivi 19              8  \n",
       "Rivi 20              3  "
      ],
      "text/html": [
       "<div>\n",
       "<style scoped>\n",
       "    .dataframe tbody tr th:only-of-type {\n",
       "        vertical-align: middle;\n",
       "    }\n",
       "\n",
       "    .dataframe tbody tr th {\n",
       "        vertical-align: top;\n",
       "    }\n",
       "\n",
       "    .dataframe thead th {\n",
       "        text-align: right;\n",
       "    }\n",
       "</style>\n",
       "<table border=\"1\" class=\"dataframe\">\n",
       "  <thead>\n",
       "    <tr style=\"text-align: right;\">\n",
       "      <th></th>\n",
       "      <th>Numero 1</th>\n",
       "      <th>Numero 2</th>\n",
       "      <th>Numero 3</th>\n",
       "      <th>Numero 4</th>\n",
       "      <th>Numero 5</th>\n",
       "      <th>Tähtinumero 1</th>\n",
       "      <th>Tähtinumero 2</th>\n",
       "    </tr>\n",
       "  </thead>\n",
       "  <tbody>\n",
       "    <tr>\n",
       "      <th>Rivi 1</th>\n",
       "      <td>32</td>\n",
       "      <td>36</td>\n",
       "      <td>5</td>\n",
       "      <td>1</td>\n",
       "      <td>25</td>\n",
       "      <td>3</td>\n",
       "      <td>1</td>\n",
       "    </tr>\n",
       "    <tr>\n",
       "      <th>Rivi 2</th>\n",
       "      <td>42</td>\n",
       "      <td>11</td>\n",
       "      <td>16</td>\n",
       "      <td>35</td>\n",
       "      <td>31</td>\n",
       "      <td>2</td>\n",
       "      <td>6</td>\n",
       "    </tr>\n",
       "    <tr>\n",
       "      <th>Rivi 3</th>\n",
       "      <td>41</td>\n",
       "      <td>26</td>\n",
       "      <td>43</td>\n",
       "      <td>13</td>\n",
       "      <td>24</td>\n",
       "      <td>9</td>\n",
       "      <td>1</td>\n",
       "    </tr>\n",
       "    <tr>\n",
       "      <th>Rivi 4</th>\n",
       "      <td>10</td>\n",
       "      <td>5</td>\n",
       "      <td>37</td>\n",
       "      <td>49</td>\n",
       "      <td>38</td>\n",
       "      <td>5</td>\n",
       "      <td>3</td>\n",
       "    </tr>\n",
       "    <tr>\n",
       "      <th>Rivi 5</th>\n",
       "      <td>11</td>\n",
       "      <td>1</td>\n",
       "      <td>25</td>\n",
       "      <td>40</td>\n",
       "      <td>30</td>\n",
       "      <td>9</td>\n",
       "      <td>1</td>\n",
       "    </tr>\n",
       "    <tr>\n",
       "      <th>Rivi 6</th>\n",
       "      <td>46</td>\n",
       "      <td>42</td>\n",
       "      <td>40</td>\n",
       "      <td>3</td>\n",
       "      <td>9</td>\n",
       "      <td>5</td>\n",
       "      <td>8</td>\n",
       "    </tr>\n",
       "    <tr>\n",
       "      <th>Rivi 7</th>\n",
       "      <td>25</td>\n",
       "      <td>31</td>\n",
       "      <td>7</td>\n",
       "      <td>26</td>\n",
       "      <td>46</td>\n",
       "      <td>6</td>\n",
       "      <td>1</td>\n",
       "    </tr>\n",
       "    <tr>\n",
       "      <th>Rivi 8</th>\n",
       "      <td>38</td>\n",
       "      <td>50</td>\n",
       "      <td>16</td>\n",
       "      <td>1</td>\n",
       "      <td>39</td>\n",
       "      <td>10</td>\n",
       "      <td>1</td>\n",
       "    </tr>\n",
       "    <tr>\n",
       "      <th>Rivi 9</th>\n",
       "      <td>20</td>\n",
       "      <td>25</td>\n",
       "      <td>21</td>\n",
       "      <td>33</td>\n",
       "      <td>40</td>\n",
       "      <td>10</td>\n",
       "      <td>9</td>\n",
       "    </tr>\n",
       "    <tr>\n",
       "      <th>Rivi 10</th>\n",
       "      <td>33</td>\n",
       "      <td>14</td>\n",
       "      <td>38</td>\n",
       "      <td>21</td>\n",
       "      <td>48</td>\n",
       "      <td>6</td>\n",
       "      <td>3</td>\n",
       "    </tr>\n",
       "    <tr>\n",
       "      <th>Rivi 11</th>\n",
       "      <td>41</td>\n",
       "      <td>17</td>\n",
       "      <td>9</td>\n",
       "      <td>26</td>\n",
       "      <td>40</td>\n",
       "      <td>6</td>\n",
       "      <td>4</td>\n",
       "    </tr>\n",
       "    <tr>\n",
       "      <th>Rivi 12</th>\n",
       "      <td>29</td>\n",
       "      <td>1</td>\n",
       "      <td>34</td>\n",
       "      <td>24</td>\n",
       "      <td>38</td>\n",
       "      <td>7</td>\n",
       "      <td>1</td>\n",
       "    </tr>\n",
       "    <tr>\n",
       "      <th>Rivi 13</th>\n",
       "      <td>30</td>\n",
       "      <td>18</td>\n",
       "      <td>1</td>\n",
       "      <td>37</td>\n",
       "      <td>47</td>\n",
       "      <td>10</td>\n",
       "      <td>3</td>\n",
       "    </tr>\n",
       "    <tr>\n",
       "      <th>Rivi 14</th>\n",
       "      <td>47</td>\n",
       "      <td>35</td>\n",
       "      <td>9</td>\n",
       "      <td>12</td>\n",
       "      <td>26</td>\n",
       "      <td>10</td>\n",
       "      <td>8</td>\n",
       "    </tr>\n",
       "    <tr>\n",
       "      <th>Rivi 15</th>\n",
       "      <td>43</td>\n",
       "      <td>5</td>\n",
       "      <td>23</td>\n",
       "      <td>22</td>\n",
       "      <td>48</td>\n",
       "      <td>8</td>\n",
       "      <td>3</td>\n",
       "    </tr>\n",
       "    <tr>\n",
       "      <th>Rivi 16</th>\n",
       "      <td>23</td>\n",
       "      <td>35</td>\n",
       "      <td>46</td>\n",
       "      <td>14</td>\n",
       "      <td>30</td>\n",
       "      <td>5</td>\n",
       "      <td>2</td>\n",
       "    </tr>\n",
       "    <tr>\n",
       "      <th>Rivi 17</th>\n",
       "      <td>35</td>\n",
       "      <td>2</td>\n",
       "      <td>30</td>\n",
       "      <td>15</td>\n",
       "      <td>18</td>\n",
       "      <td>7</td>\n",
       "      <td>3</td>\n",
       "    </tr>\n",
       "    <tr>\n",
       "      <th>Rivi 18</th>\n",
       "      <td>39</td>\n",
       "      <td>11</td>\n",
       "      <td>31</td>\n",
       "      <td>14</td>\n",
       "      <td>12</td>\n",
       "      <td>1</td>\n",
       "      <td>4</td>\n",
       "    </tr>\n",
       "    <tr>\n",
       "      <th>Rivi 19</th>\n",
       "      <td>36</td>\n",
       "      <td>9</td>\n",
       "      <td>23</td>\n",
       "      <td>40</td>\n",
       "      <td>46</td>\n",
       "      <td>1</td>\n",
       "      <td>8</td>\n",
       "    </tr>\n",
       "    <tr>\n",
       "      <th>Rivi 20</th>\n",
       "      <td>43</td>\n",
       "      <td>12</td>\n",
       "      <td>35</td>\n",
       "      <td>14</td>\n",
       "      <td>6</td>\n",
       "      <td>4</td>\n",
       "      <td>3</td>\n",
       "    </tr>\n",
       "  </tbody>\n",
       "</table>\n",
       "</div>"
      ]
     },
     "metadata": {},
     "execution_count": 23
    }
   ],
   "metadata": {}
  }
 ],
 "metadata": {
  "orig_nbformat": 4,
  "language_info": {
   "name": "python",
   "version": "3.8.5",
   "mimetype": "text/x-python",
   "codemirror_mode": {
    "name": "ipython",
    "version": 3
   },
   "pygments_lexer": "ipython3",
   "nbconvert_exporter": "python",
   "file_extension": ".py"
  },
  "kernelspec": {
   "name": "python3",
   "display_name": "Python 3.8.5 64-bit ('base': conda)"
  },
  "interpreter": {
   "hash": "b3ba2566441a7c06988d0923437866b63cedc61552a5af99d1f4fb67d367b25f"
  }
 },
 "nbformat": 4,
 "nbformat_minor": 2
}